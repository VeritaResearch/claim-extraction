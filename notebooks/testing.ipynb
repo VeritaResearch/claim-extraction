{
 "cells": [
  {
   "cell_type": "code",
   "execution_count": 2,
   "source": [
    "import os\n",
    "from os.path import join, dirname, pardir\n",
    "\n",
    "import sys\n",
    "\n",
    "#PROJ_PATH = join(dirname(__file__), pardir)\n",
    "PROJ_PATH = \"/Users/andrew/Documents/workspace/claim-extraction/\"\n",
    "sys.path.insert(0, PROJ_PATH)\n",
    "\n",
    "from src.utils import load_model, prepare_eval_dataset\n",
    "from src.eval import eval"
   ],
   "outputs": [
    {
     "output_type": "stream",
     "name": "stderr",
     "text": [
      "/opt/miniconda3/envs/claim-extraction/lib/python3.13/site-packages/tqdm/auto.py:21: TqdmWarning: IProgress not found. Please update jupyter and ipywidgets. See https://ipywidgets.readthedocs.io/en/stable/user_install.html\n",
      "  from .autonotebook import tqdm as notebook_tqdm\n"
     ]
    }
   ],
   "metadata": {}
  },
  {
   "cell_type": "code",
   "execution_count": 3,
   "source": [
    "cache_dir = \"../assets/pretrained-models\"\n",
    "model_path = \"meta-llama/Llama-3.2-1B-Instruct\""
   ],
   "outputs": [],
   "metadata": {}
  },
  {
   "cell_type": "code",
   "execution_count": 4,
   "source": [
    "model, tokenizer = load_model(\n",
    "    model_path=model_path, cache_dir=cache_dir, cuda=False\n",
    ")"
   ],
   "outputs": [],
   "metadata": {}
  },
  {
   "cell_type": "code",
   "execution_count": 16,
   "source": [
    "messages = [{'role': 'user', 'content': '### Sentence: It was not my administration that put the sanctions on Iran.\\n### Instruction: Is the sentence a factual claim that could be checked by a fact-checker?'}, {'role': 'system', 'content': 'Only respond Yes or No'}, {'role': 'assistant', 'content': ''}]\n",
    "\n",
    "chat_template_input_ids = tokenizer.apply_chat_template(\n",
    "    messages,\n",
    "    add_generation_prompt=False,\n",
    "    continue_final_message=True,\n",
    "    return_tensors=\"pt\"\n",
    ")\n",
    "chat_template_input_ids = chat_template_input_ids[0, :-1].reshape(1, -1)\n",
    "\n",
    "print(tokenizer.batch_decode(model.generate(chat_template_input_ids, max_new_tokens = 10), remove_special_chars=True)[0])"
   ],
   "outputs": [
    {
     "output_type": "stream",
     "name": "stderr",
     "text": [
      "The attention mask and the pad token id were not set. As a consequence, you may observe unexpected behavior. Please pass your input's `attention_mask` to obtain reliable results.\n",
      "Setting `pad_token_id` to `eos_token_id`:128001 for open-end generation.\n"
     ]
    },
    {
     "output_type": "stream",
     "name": "stdout",
     "text": [
      "<|begin_of_text|><|start_header_id|>system<|end_header_id|>\n",
      "\n",
      "Cutting Knowledge Date: December 2023\n",
      "Today Date: 13 Apr 2025\n",
      "\n",
      "<|eot_id|><|start_header_id|>user<|end_header_id|>\n",
      "\n",
      "### Sentence: It was not my administration that put the sanctions on Iran.\n",
      " ### Instruction: Is the sentence a factual claim that could be checked by a fact-checker?<|eot_id|><|start_header_id|>system<|end_header_id|>\n",
      "\n",
      "Only respond Yes or No<|eot_id|><|start_header_id|>assistant<|end_header_id|>\n",
      "\n",
      "No<|eot_id|>\n"
     ]
    }
   ],
   "metadata": {}
  },
  {
   "cell_type": "code",
   "execution_count": null,
   "source": [],
   "outputs": [],
   "metadata": {}
  }
 ],
 "metadata": {
  "orig_nbformat": 4,
  "language_info": {
   "name": "python",
   "version": "3.13.2",
   "mimetype": "text/x-python",
   "codemirror_mode": {
    "name": "ipython",
    "version": 3
   },
   "pygments_lexer": "ipython3",
   "nbconvert_exporter": "python",
   "file_extension": ".py"
  },
  "kernelspec": {
   "name": "python3",
   "display_name": "Python 3.13.2 64-bit ('claim-extraction': conda)"
  },
  "interpreter": {
   "hash": "6b023f274101c0d83a2338600e52d2429e6f2c6f40deb617cd262127fbe3c9bb"
  }
 },
 "nbformat": 4,
 "nbformat_minor": 2
}